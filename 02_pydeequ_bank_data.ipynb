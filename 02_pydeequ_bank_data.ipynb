{
  "cells": [
    {
      "cell_type": "markdown",
      "metadata": {
        "id": "view-in-github",
        "colab_type": "text"
      },
      "source": [
        "<a href=\"https://colab.research.google.com/github/evansonorieru/testing/blob/master/02_pydeequ_bank_data.ipynb\" target=\"_parent\"><img src=\"https://colab.research.google.com/assets/colab-badge.svg\" alt=\"Open In Colab\"/></a>"
      ]
    },
    {
      "cell_type": "markdown",
      "metadata": {
        "id": "C5YFcypGbdaH"
      },
      "source": [
        "First we need to install pyspark, by doing the download of the relevant tar files"
      ]
    },
    {
      "cell_type": "code",
      "execution_count": null,
      "metadata": {
        "id": "A3zPWIceZ5Px"
      },
      "outputs": [],
      "source": [
        "!apt-get install openjdk-11-jdk-headless -qq > /dev/null\n",
        "!wget -q https://dlcdn.apache.org/spark/spark-3.3.2/spark-3.3.2-bin-hadoop2.tgz\n",
        "!tar xf spark-3.3.2-bin-hadoop2.tgz\n",
        "!pip install -q findspark"
      ]
    },
    {
      "cell_type": "markdown",
      "metadata": {
        "id": "vx48qFYdcTE1"
      },
      "source": [
        "Define the environment features"
      ]
    },
    {
      "cell_type": "code",
      "execution_count": null,
      "metadata": {
        "id": "Sm-LqaySbINU"
      },
      "outputs": [],
      "source": [
        "import os\n",
        "os.environ[\"JAVA_HOME\"] = \"/usr/lib/jvm/java-11-openjdk-amd64\"\n",
        "os.environ[\"SPARK_HOME\"] = \"/content/spark-3.3.2-bin-hadoop2\""
      ]
    },
    {
      "cell_type": "code",
      "execution_count": null,
      "metadata": {
        "id": "x1r0moI0ce16"
      },
      "outputs": [],
      "source": [
        "import findspark\n",
        "findspark.init()"
      ]
    },
    {
      "cell_type": "markdown",
      "metadata": {
        "id": "fEgKJTo8ck-u"
      },
      "source": [
        "Install pydeequ"
      ]
    },
    {
      "cell_type": "code",
      "execution_count": null,
      "metadata": {
        "colab": {
          "base_uri": "https://localhost:8080/"
        },
        "id": "D49m5MlCcpKc",
        "outputId": "c77d133c-f0c5-43fc-f3b3-e0f7b1922292"
      },
      "outputs": [
        {
          "output_type": "stream",
          "name": "stdout",
          "text": [
            "Looking in indexes: https://pypi.org/simple, https://us-python.pkg.dev/colab-wheels/public/simple/\n",
            "Collecting pydeequ\n",
            "  Downloading pydeequ-1.0.1-py3-none-any.whl (36 kB)\n",
            "Requirement already satisfied: numpy>=1.14.1 in /usr/local/lib/python3.10/dist-packages (from pydeequ) (1.24.3)\n",
            "Requirement already satisfied: pandas>=0.23.0 in /usr/local/lib/python3.10/dist-packages (from pydeequ) (1.5.3)\n",
            "Requirement already satisfied: python-dateutil>=2.8.1 in /usr/local/lib/python3.10/dist-packages (from pandas>=0.23.0->pydeequ) (2.8.2)\n",
            "Requirement already satisfied: pytz>=2020.1 in /usr/local/lib/python3.10/dist-packages (from pandas>=0.23.0->pydeequ) (2022.7.1)\n",
            "Requirement already satisfied: six>=1.5 in /usr/local/lib/python3.10/dist-packages (from python-dateutil>=2.8.1->pandas>=0.23.0->pydeequ) (1.16.0)\n",
            "Installing collected packages: pydeequ\n",
            "Successfully installed pydeequ-1.0.1\n"
          ]
        }
      ],
      "source": [
        "!pip install pydeequ"
      ]
    },
    {
      "cell_type": "code",
      "execution_count": null,
      "metadata": {
        "id": "J6mAcPvqmtNG"
      },
      "outputs": [],
      "source": [
        "SPARK_VERSION=\"3.3.2\""
      ]
    },
    {
      "cell_type": "code",
      "execution_count": null,
      "metadata": {
        "colab": {
          "base_uri": "https://localhost:8080/"
        },
        "id": "S8UWT19LpQqt",
        "outputId": "2fadddb7-50a3-438b-fd14-82f3c29f292f"
      },
      "outputs": [
        {
          "output_type": "stream",
          "name": "stdout",
          "text": [
            "--2023-06-06 15:49:39--  https://repo1.maven.org/maven2/com/amazon/deequ/deequ/2.0.2-spark-3.3/deequ-2.0.2-spark-3.3.jar\n",
            "Resolving repo1.maven.org (repo1.maven.org)... 199.232.192.209, 199.232.196.209, 2a04:4e42:4c::209, ...\n",
            "Connecting to repo1.maven.org (repo1.maven.org)|199.232.192.209|:443... connected.\n",
            "HTTP request sent, awaiting response... 200 OK\n",
            "Length: 1265888 (1.2M) [application/java-archive]\n",
            "Saving to: ‘deequ-2.0.2-spark-3.3.jar’\n",
            "\n",
            "\r          deequ-2.0   0%[                    ]       0  --.-KB/s               \rdeequ-2.0.2-spark-3 100%[===================>]   1.21M  --.-KB/s    in 0.06s   \n",
            "\n",
            "2023-06-06 15:49:39 (21.8 MB/s) - ‘deequ-2.0.2-spark-3.3.jar’ saved [1265888/1265888]\n",
            "\n"
          ]
        }
      ],
      "source": [
        "!wget https://repo1.maven.org/maven2/com/amazon/deequ/deequ/2.0.2-spark-3.3/deequ-2.0.2-spark-3.3.jar"
      ]
    },
    {
      "cell_type": "code",
      "execution_count": null,
      "metadata": {
        "id": "pv-nEKFtp1Qi"
      },
      "outputs": [],
      "source": [
        "os.environ['PYSPARK_SUBMIT_ARGS'] = '--jars file:///content/deequ-2.0.2-spark-3.3.jar pyspark-shell'"
      ]
    },
    {
      "cell_type": "code",
      "execution_count": null,
      "metadata": {
        "colab": {
          "base_uri": "https://localhost:8080/"
        },
        "id": "-qUOt_0NgoSe",
        "outputId": "0f109ffd-a97a-4399-8305-8f8408bf2a13"
      },
      "outputs": [
        {
          "output_type": "stream",
          "name": "stderr",
          "text": [
            "ERROR:logger:Please set env variable SPARK_VERSION\n"
          ]
        }
      ],
      "source": [
        "from pyspark.sql import SparkSession, Row\n",
        "import pydeequ\n",
        "spark = (SparkSession\n",
        "             .builder\n",
        "             .getOrCreate())"
      ]
    },
    {
      "cell_type": "code",
      "execution_count": null,
      "metadata": {
        "id": "Eoy0wXI3hlV4"
      },
      "outputs": [],
      "source": [
        "#from google.colab import files\n",
        "#files.upload()"
      ]
    },
    {
      "cell_type": "code",
      "execution_count": null,
      "metadata": {
        "colab": {
          "base_uri": "https://localhost:8080/"
        },
        "id": "aoS7VvKZRQNo",
        "outputId": "2723c39b-2c55-42e7-f5f4-7978ec9bdd70"
      },
      "outputs": [
        {
          "output_type": "stream",
          "name": "stdout",
          "text": [
            "Archive:  bank.zip\n",
            "  inflating: bank-full.csv           \n",
            "  inflating: bank-names.txt          \n",
            "  inflating: bank.csv                \n"
          ]
        }
      ],
      "source": [
        "!wget -q https://archive.ics.uci.edu/ml/machine-learning-databases/00222/bank.zip\n",
        "!unzip bank.zip"
      ]
    },
    {
      "cell_type": "code",
      "execution_count": null,
      "metadata": {
        "id": "8hLZ7bZFgzgx"
      },
      "outputs": [],
      "source": [
        "df = spark.read.option(\"header\",\"true\").options(inferSchema='True',delimiter=\";\").csv(\"bank-full.csv\")"
      ]
    },
    {
      "cell_type": "code",
      "execution_count": null,
      "metadata": {
        "id": "Dc299OQnhWkH",
        "colab": {
          "base_uri": "https://localhost:8080/"
        },
        "outputId": "8a99e0e2-4407-4045-87eb-b87ba0540690"
      },
      "outputs": [
        {
          "output_type": "stream",
          "name": "stdout",
          "text": [
            "+---+------------+--------+---------+-------+-------+-------+----+-------+---+-----+--------+--------+-----+--------+--------+---+\n",
            "|age|         job| marital|education|default|balance|housing|loan|contact|day|month|duration|campaign|pdays|previous|poutcome|  y|\n",
            "+---+------------+--------+---------+-------+-------+-------+----+-------+---+-----+--------+--------+-----+--------+--------+---+\n",
            "| 58|  management| married| tertiary|     no|   2143|    yes|  no|unknown|  5|  may|     261|       1|   -1|       0| unknown| no|\n",
            "| 44|  technician|  single|secondary|     no|     29|    yes|  no|unknown|  5|  may|     151|       1|   -1|       0| unknown| no|\n",
            "| 33|entrepreneur| married|secondary|     no|      2|    yes| yes|unknown|  5|  may|      76|       1|   -1|       0| unknown| no|\n",
            "| 47| blue-collar| married|  unknown|     no|   1506|    yes|  no|unknown|  5|  may|      92|       1|   -1|       0| unknown| no|\n",
            "| 33|     unknown|  single|  unknown|     no|      1|     no|  no|unknown|  5|  may|     198|       1|   -1|       0| unknown| no|\n",
            "| 35|  management| married| tertiary|     no|    231|    yes|  no|unknown|  5|  may|     139|       1|   -1|       0| unknown| no|\n",
            "| 28|  management|  single| tertiary|     no|    447|    yes| yes|unknown|  5|  may|     217|       1|   -1|       0| unknown| no|\n",
            "| 42|entrepreneur|divorced| tertiary|    yes|      2|    yes|  no|unknown|  5|  may|     380|       1|   -1|       0| unknown| no|\n",
            "| 58|     retired| married|  primary|     no|    121|    yes|  no|unknown|  5|  may|      50|       1|   -1|       0| unknown| no|\n",
            "| 43|  technician|  single|secondary|     no|    593|    yes|  no|unknown|  5|  may|      55|       1|   -1|       0| unknown| no|\n",
            "| 41|      admin.|divorced|secondary|     no|    270|    yes|  no|unknown|  5|  may|     222|       1|   -1|       0| unknown| no|\n",
            "| 29|      admin.|  single|secondary|     no|    390|    yes|  no|unknown|  5|  may|     137|       1|   -1|       0| unknown| no|\n",
            "| 53|  technician| married|secondary|     no|      6|    yes|  no|unknown|  5|  may|     517|       1|   -1|       0| unknown| no|\n",
            "| 58|  technician| married|  unknown|     no|     71|    yes|  no|unknown|  5|  may|      71|       1|   -1|       0| unknown| no|\n",
            "| 57|    services| married|secondary|     no|    162|    yes|  no|unknown|  5|  may|     174|       1|   -1|       0| unknown| no|\n",
            "| 51|     retired| married|  primary|     no|    229|    yes|  no|unknown|  5|  may|     353|       1|   -1|       0| unknown| no|\n",
            "| 45|      admin.|  single|  unknown|     no|     13|    yes|  no|unknown|  5|  may|      98|       1|   -1|       0| unknown| no|\n",
            "| 57| blue-collar| married|  primary|     no|     52|    yes|  no|unknown|  5|  may|      38|       1|   -1|       0| unknown| no|\n",
            "| 60|     retired| married|  primary|     no|     60|    yes|  no|unknown|  5|  may|     219|       1|   -1|       0| unknown| no|\n",
            "| 33|    services| married|secondary|     no|      0|    yes|  no|unknown|  5|  may|      54|       1|   -1|       0| unknown| no|\n",
            "+---+------------+--------+---------+-------+-------+-------+----+-------+---+-----+--------+--------+-----+--------+--------+---+\n",
            "only showing top 20 rows\n",
            "\n"
          ]
        }
      ],
      "source": [
        "df.show()"
      ]
    },
    {
      "cell_type": "code",
      "execution_count": null,
      "metadata": {
        "id": "xIzMes0uik5j",
        "colab": {
          "base_uri": "https://localhost:8080/"
        },
        "outputId": "381affb3-0690-4b49-e0b6-b807e3e0922a"
      },
      "outputs": [
        {
          "output_type": "execute_result",
          "data": {
            "text/plain": [
              "[('age', 'int'),\n",
              " ('job', 'string'),\n",
              " ('marital', 'string'),\n",
              " ('education', 'string'),\n",
              " ('default', 'string'),\n",
              " ('balance', 'int'),\n",
              " ('housing', 'string'),\n",
              " ('loan', 'string'),\n",
              " ('contact', 'string'),\n",
              " ('day', 'int'),\n",
              " ('month', 'string'),\n",
              " ('duration', 'int'),\n",
              " ('campaign', 'int'),\n",
              " ('pdays', 'int'),\n",
              " ('previous', 'int'),\n",
              " ('poutcome', 'string'),\n",
              " ('y', 'string')]"
            ]
          },
          "metadata": {},
          "execution_count": 13
        }
      ],
      "source": [
        "df.dtypes"
      ]
    },
    {
      "cell_type": "markdown",
      "metadata": {
        "id": "HeVwRgYrjynA"
      },
      "source": [
        "Metrics Computation"
      ]
    },
    {
      "cell_type": "code",
      "execution_count": null,
      "metadata": {
        "id": "IONfFWpPi46I"
      },
      "outputs": [],
      "source": [
        "from pydeequ.analyzers import AnalysisRunner, AnalyzerContext, Completeness,Compliance, Correlation, Size, Completeness, Mean, ApproxCountDistinct, Maximum, Minimum, Entropy"
      ]
    },
    {
      "cell_type": "code",
      "execution_count": null,
      "metadata": {
        "id": "LVDXOynEkBWY"
      },
      "outputs": [],
      "source": [
        "analysisResult = AnalysisRunner(spark)\\\n",
        "                         .onData(df)\\\n",
        "                         .addAnalyzer(Size())\\\n",
        "                         .addAnalyzer(Completeness(\"balance\"))\\\n",
        "                         .addAnalyzer(ApproxCountDistinct(\"balance\"))\\\n",
        "                         .addAnalyzer(Minimum(\"balance\"))\\\n",
        "                         .addAnalyzer(Mean(\"balance\"))\\\n",
        "                         .addAnalyzer(Maximum(\"balance\"))\\\n",
        "                         .addAnalyzer(Entropy(\"balance\"))\\\n",
        "                         .addAnalyzer(Correlation(\"age\", \"balance\"))\\\n",
        "                         .run()\n"
      ]
    },
    {
      "cell_type": "code",
      "execution_count": null,
      "metadata": {
        "id": "eHp71FtokKSa",
        "colab": {
          "base_uri": "https://localhost:8080/"
        },
        "outputId": "43c6ef70-1ea9-4b17-c72a-ca33a77e1cd8"
      },
      "outputs": [
        {
          "output_type": "stream",
          "name": "stdout",
          "text": [
            "+-----------+-----------+-------------------+-------------------+\n",
            "|entity     |instance   |name               |value              |\n",
            "+-----------+-----------+-------------------+-------------------+\n",
            "|Dataset    |*          |Size               |45211.0            |\n",
            "|Mutlicolumn|age,balance|Correlation        |0.09778273937134817|\n",
            "|Column     |balance    |Completeness       |1.0                |\n",
            "|Column     |balance    |ApproxCountDistinct|7375.0             |\n",
            "|Column     |balance    |Minimum            |-8019.0            |\n",
            "|Column     |balance    |Mean               |1362.2720576850766 |\n",
            "|Column     |balance    |Maximum            |102127.0           |\n",
            "|Column     |balance    |Entropy            |7.789099488898172  |\n",
            "+-----------+-----------+-------------------+-------------------+\n",
            "\n"
          ]
        },
        {
          "output_type": "stream",
          "name": "stderr",
          "text": [
            "/content/spark-3.3.2-bin-hadoop2/python/pyspark/sql/dataframe.py:127: UserWarning: DataFrame constructor is internal. Do not directly use it.\n",
            "  warnings.warn(\"DataFrame constructor is internal. Do not directly use it.\")\n"
          ]
        }
      ],
      "source": [
        "analysisResult_df = AnalyzerContext.successMetricsAsDataFrame(spark, analysisResult)\n",
        "analysisResult_df.show(10,False)"
      ]
    },
    {
      "cell_type": "code",
      "execution_count": null,
      "metadata": {
        "id": "15bOodnaCP6G"
      },
      "outputs": [],
      "source": [
        "from pydeequ.repository import FileSystemMetricsRepository, ResultKey\n",
        "from pydeequ.analyzers import AnalysisRunner, ApproxCountDistinct\n",
        "\n",
        "\n",
        "\n",
        "metrics_file = FileSystemMetricsRepository.helper_metrics_file(spark, 'metrics.json')\n",
        "repository = FileSystemMetricsRepository(spark, metrics_file)"
      ]
    },
    {
      "cell_type": "markdown",
      "metadata": {
        "id": "4cRYTefdS2vG"
      },
      "source": [
        "We can generate a tag per each analysis, with a perspective of time, which one was the first."
      ]
    },
    {
      "cell_type": "code",
      "execution_count": null,
      "metadata": {
        "id": "LSmAFT6QCV5r"
      },
      "outputs": [],
      "source": [
        "key_tags = {'tag': 'age'}\n",
        "resultKey = ResultKey(spark, ResultKey.current_milli_time(), key_tags)\n",
        "analysisResult = AnalysisRunner(spark) \\\n",
        "                         .onData(df) \\\n",
        "                         .addAnalyzer(ApproxCountDistinct('age')) \\\n",
        "                         .useRepository(repository) \\\n",
        "                         .saveOrAppendResult(resultKey) \\\n",
        "                         .run()"
      ]
    },
    {
      "cell_type": "code",
      "execution_count": null,
      "metadata": {
        "id": "JipoSUIICj9u"
      },
      "outputs": [],
      "source": [
        "resultKey2 = ResultKey(spark, ResultKey.current_milli_time(), key_tags)"
      ]
    },
    {
      "cell_type": "code",
      "execution_count": null,
      "metadata": {
        "id": "qZMQjsfKTZvU"
      },
      "outputs": [],
      "source": [
        "analysisResult = AnalysisRunner(spark) \\\n",
        "                         .onData(df) \\\n",
        "                         .addAnalyzer(Maximum('age')) \\\n",
        "                         .useRepository(repository) \\\n",
        "                         .saveOrAppendResult(resultKey2) \\\n",
        "                         .run()"
      ]
    },
    {
      "cell_type": "code",
      "execution_count": null,
      "metadata": {
        "colab": {
          "base_uri": "https://localhost:8080/"
        },
        "id": "OP2bN5LuCmai",
        "outputId": "e5faf06e-8465-4e47-a155-a3d6e9f5b857"
      },
      "outputs": [
        {
          "output_type": "stream",
          "name": "stdout",
          "text": [
            "+------+--------+-------------------+-----+-------------+---+\n",
            "|entity|instance|               name|value| dataset_date|tag|\n",
            "+------+--------+-------------------+-----+-------------+---+\n",
            "|Column|     age|ApproxCountDistinct| 76.0|1686066659919|age|\n",
            "|Column|     age|            Maximum| 95.0|1686066663723|age|\n",
            "+------+--------+-------------------+-----+-------------+---+\n",
            "\n"
          ]
        }
      ],
      "source": [
        "analysisResult_metRep = repository.load() \\\n",
        "                           .before(ResultKey.current_milli_time()) \\\n",
        "                           .getSuccessMetricsAsDataFrame()\n",
        "analysisResult_metRep.show()"
      ]
    },
    {
      "cell_type": "markdown",
      "metadata": {
        "id": "DmD5LCoxTn5J"
      },
      "source": [
        "We can also creare profiles for ech feature and save the them in a dataframe. Like is said during the classes, the ultimte goal is to have a database where we can save all this relevant information"
      ]
    },
    {
      "cell_type": "code",
      "execution_count": null,
      "metadata": {
        "id": "-IviPh2aty6r"
      },
      "outputs": [],
      "source": [
        "from pydeequ.profiles import ColumnProfilerRunner\n",
        "result = ColumnProfilerRunner(spark) \\\n",
        "                .onData(df) \\\n",
        "                .run()"
      ]
    },
    {
      "cell_type": "code",
      "execution_count": null,
      "metadata": {
        "colab": {
          "base_uri": "https://localhost:8080/"
        },
        "id": "AlNXUxqlt4lr",
        "outputId": "3bd2b76a-ff3d-4a4c-be05-71f3852123fd"
      },
      "outputs": [
        {
          "output_type": "stream",
          "name": "stdout",
          "text": [
            "Column 'duration'\n",
            "\t completeness: 1.0\n",
            "\t approximate number of distinct values: 1605\n",
            "\t datatype: Integral\n",
            "Column 'housing'\n",
            "\t completeness: 1.0\n",
            "\t approximate number of distinct values: 2\n",
            "\t datatype: String\n",
            "Column 'y'\n",
            "\t completeness: 1.0\n",
            "\t approximate number of distinct values: 2\n",
            "\t datatype: String\n",
            "Column 'previous'\n",
            "\t completeness: 1.0\n",
            "\t approximate number of distinct values: 42\n",
            "\t datatype: Integral\n",
            "Column 'campaign'\n",
            "\t completeness: 1.0\n",
            "\t approximate number of distinct values: 47\n",
            "\t datatype: Integral\n",
            "Column 'job'\n",
            "\t completeness: 1.0\n",
            "\t approximate number of distinct values: 11\n",
            "\t datatype: String\n",
            "Column 'balance'\n",
            "\t completeness: 1.0\n",
            "\t approximate number of distinct values: 7375\n",
            "\t datatype: Integral\n",
            "Column 'contact'\n",
            "\t completeness: 1.0\n",
            "\t approximate number of distinct values: 3\n",
            "\t datatype: String\n",
            "Column 'age'\n",
            "\t completeness: 1.0\n",
            "\t approximate number of distinct values: 76\n",
            "\t datatype: Integral\n",
            "Column 'loan'\n",
            "\t completeness: 1.0\n",
            "\t approximate number of distinct values: 2\n",
            "\t datatype: String\n",
            "Column 'education'\n",
            "\t completeness: 1.0\n",
            "\t approximate number of distinct values: 4\n",
            "\t datatype: String\n",
            "Column 'marital'\n",
            "\t completeness: 1.0\n",
            "\t approximate number of distinct values: 3\n",
            "\t datatype: String\n",
            "Column 'default'\n",
            "\t completeness: 1.0\n",
            "\t approximate number of distinct values: 2\n",
            "\t datatype: String\n",
            "Column 'pdays'\n",
            "\t completeness: 1.0\n",
            "\t approximate number of distinct values: 553\n",
            "\t datatype: Integral\n",
            "Column 'day'\n",
            "\t completeness: 1.0\n",
            "\t approximate number of distinct values: 32\n",
            "\t datatype: Integral\n",
            "Column 'poutcome'\n",
            "\t completeness: 1.0\n",
            "\t approximate number of distinct values: 4\n",
            "\t datatype: String\n",
            "Column 'month'\n",
            "\t completeness: 1.0\n",
            "\t approximate number of distinct values: 12\n",
            "\t datatype: String\n"
          ]
        }
      ],
      "source": [
        "list_elements = []\n",
        "for col, profile in result.profiles.items():\n",
        "       print(f'Column \\'{col}\\'')\n",
        "       print('\\t',f'completeness: {profile.completeness}')\n",
        "       print('\\t',f'approximate number of distinct values: {profile.approximateNumDistinctValues}')\n",
        "       print('\\t',f'datatype: {profile.dataType}')\n",
        "       list_elements.append((col, profile.completeness, profile.approximateNumDistinctValues, profile.dataType))\n"
      ]
    },
    {
      "cell_type": "code",
      "execution_count": null,
      "metadata": {
        "colab": {
          "base_uri": "https://localhost:8080/"
        },
        "id": "VUdK_d0a6nuQ",
        "outputId": "73040b14-a9d1-4a8a-8a69-4b8fbea1e84e"
      },
      "outputs": [
        {
          "output_type": "execute_result",
          "data": {
            "text/plain": [
              "[('duration', 1.0, 1605, 'Integral'),\n",
              " ('housing', 1.0, 2, 'String'),\n",
              " ('y', 1.0, 2, 'String'),\n",
              " ('previous', 1.0, 42, 'Integral'),\n",
              " ('campaign', 1.0, 47, 'Integral'),\n",
              " ('job', 1.0, 11, 'String'),\n",
              " ('balance', 1.0, 7375, 'Integral'),\n",
              " ('contact', 1.0, 3, 'String'),\n",
              " ('age', 1.0, 76, 'Integral'),\n",
              " ('loan', 1.0, 2, 'String'),\n",
              " ('education', 1.0, 4, 'String'),\n",
              " ('marital', 1.0, 3, 'String'),\n",
              " ('default', 1.0, 2, 'String'),\n",
              " ('pdays', 1.0, 553, 'Integral'),\n",
              " ('day', 1.0, 32, 'Integral'),\n",
              " ('poutcome', 1.0, 4, 'String'),\n",
              " ('month', 1.0, 12, 'String')]"
            ]
          },
          "metadata": {},
          "execution_count": 24
        }
      ],
      "source": [
        "list_elements"
      ]
    },
    {
      "cell_type": "code",
      "execution_count": null,
      "metadata": {
        "id": "GDQo2PpS67jy"
      },
      "outputs": [],
      "source": [
        "import pandas as pd"
      ]
    },
    {
      "cell_type": "code",
      "execution_count": null,
      "metadata": {
        "id": "5S6RbXBwt_8I"
      },
      "outputs": [],
      "source": [
        "df_profile = pd.DataFrame(list_elements, columns=('Feature', 'Completeness', 'Distinct_values', 'DataType'))"
      ]
    },
    {
      "cell_type": "code",
      "execution_count": null,
      "metadata": {
        "colab": {
          "base_uri": "https://localhost:8080/",
          "height": 582
        },
        "id": "e0pt9dA866zj",
        "outputId": "b42b5b45-0f22-4bff-c989-c0b7658254bb"
      },
      "outputs": [
        {
          "output_type": "execute_result",
          "data": {
            "text/plain": [
              "      Feature  Completeness  Distinct_values  DataType\n",
              "0    duration           1.0             1605  Integral\n",
              "1     housing           1.0                2    String\n",
              "2           y           1.0                2    String\n",
              "3    previous           1.0               42  Integral\n",
              "4    campaign           1.0               47  Integral\n",
              "5         job           1.0               11    String\n",
              "6     balance           1.0             7375  Integral\n",
              "7     contact           1.0                3    String\n",
              "8         age           1.0               76  Integral\n",
              "9        loan           1.0                2    String\n",
              "10  education           1.0                4    String\n",
              "11    marital           1.0                3    String\n",
              "12    default           1.0                2    String\n",
              "13      pdays           1.0              553  Integral\n",
              "14        day           1.0               32  Integral\n",
              "15   poutcome           1.0                4    String\n",
              "16      month           1.0               12    String"
            ],
            "text/html": [
              "\n",
              "  <div id=\"df-90334e44-367c-4fb0-bc29-e26cf479ea99\">\n",
              "    <div class=\"colab-df-container\">\n",
              "      <div>\n",
              "<style scoped>\n",
              "    .dataframe tbody tr th:only-of-type {\n",
              "        vertical-align: middle;\n",
              "    }\n",
              "\n",
              "    .dataframe tbody tr th {\n",
              "        vertical-align: top;\n",
              "    }\n",
              "\n",
              "    .dataframe thead th {\n",
              "        text-align: right;\n",
              "    }\n",
              "</style>\n",
              "<table border=\"1\" class=\"dataframe\">\n",
              "  <thead>\n",
              "    <tr style=\"text-align: right;\">\n",
              "      <th></th>\n",
              "      <th>Feature</th>\n",
              "      <th>Completeness</th>\n",
              "      <th>Distinct_values</th>\n",
              "      <th>DataType</th>\n",
              "    </tr>\n",
              "  </thead>\n",
              "  <tbody>\n",
              "    <tr>\n",
              "      <th>0</th>\n",
              "      <td>duration</td>\n",
              "      <td>1.0</td>\n",
              "      <td>1605</td>\n",
              "      <td>Integral</td>\n",
              "    </tr>\n",
              "    <tr>\n",
              "      <th>1</th>\n",
              "      <td>housing</td>\n",
              "      <td>1.0</td>\n",
              "      <td>2</td>\n",
              "      <td>String</td>\n",
              "    </tr>\n",
              "    <tr>\n",
              "      <th>2</th>\n",
              "      <td>y</td>\n",
              "      <td>1.0</td>\n",
              "      <td>2</td>\n",
              "      <td>String</td>\n",
              "    </tr>\n",
              "    <tr>\n",
              "      <th>3</th>\n",
              "      <td>previous</td>\n",
              "      <td>1.0</td>\n",
              "      <td>42</td>\n",
              "      <td>Integral</td>\n",
              "    </tr>\n",
              "    <tr>\n",
              "      <th>4</th>\n",
              "      <td>campaign</td>\n",
              "      <td>1.0</td>\n",
              "      <td>47</td>\n",
              "      <td>Integral</td>\n",
              "    </tr>\n",
              "    <tr>\n",
              "      <th>5</th>\n",
              "      <td>job</td>\n",
              "      <td>1.0</td>\n",
              "      <td>11</td>\n",
              "      <td>String</td>\n",
              "    </tr>\n",
              "    <tr>\n",
              "      <th>6</th>\n",
              "      <td>balance</td>\n",
              "      <td>1.0</td>\n",
              "      <td>7375</td>\n",
              "      <td>Integral</td>\n",
              "    </tr>\n",
              "    <tr>\n",
              "      <th>7</th>\n",
              "      <td>contact</td>\n",
              "      <td>1.0</td>\n",
              "      <td>3</td>\n",
              "      <td>String</td>\n",
              "    </tr>\n",
              "    <tr>\n",
              "      <th>8</th>\n",
              "      <td>age</td>\n",
              "      <td>1.0</td>\n",
              "      <td>76</td>\n",
              "      <td>Integral</td>\n",
              "    </tr>\n",
              "    <tr>\n",
              "      <th>9</th>\n",
              "      <td>loan</td>\n",
              "      <td>1.0</td>\n",
              "      <td>2</td>\n",
              "      <td>String</td>\n",
              "    </tr>\n",
              "    <tr>\n",
              "      <th>10</th>\n",
              "      <td>education</td>\n",
              "      <td>1.0</td>\n",
              "      <td>4</td>\n",
              "      <td>String</td>\n",
              "    </tr>\n",
              "    <tr>\n",
              "      <th>11</th>\n",
              "      <td>marital</td>\n",
              "      <td>1.0</td>\n",
              "      <td>3</td>\n",
              "      <td>String</td>\n",
              "    </tr>\n",
              "    <tr>\n",
              "      <th>12</th>\n",
              "      <td>default</td>\n",
              "      <td>1.0</td>\n",
              "      <td>2</td>\n",
              "      <td>String</td>\n",
              "    </tr>\n",
              "    <tr>\n",
              "      <th>13</th>\n",
              "      <td>pdays</td>\n",
              "      <td>1.0</td>\n",
              "      <td>553</td>\n",
              "      <td>Integral</td>\n",
              "    </tr>\n",
              "    <tr>\n",
              "      <th>14</th>\n",
              "      <td>day</td>\n",
              "      <td>1.0</td>\n",
              "      <td>32</td>\n",
              "      <td>Integral</td>\n",
              "    </tr>\n",
              "    <tr>\n",
              "      <th>15</th>\n",
              "      <td>poutcome</td>\n",
              "      <td>1.0</td>\n",
              "      <td>4</td>\n",
              "      <td>String</td>\n",
              "    </tr>\n",
              "    <tr>\n",
              "      <th>16</th>\n",
              "      <td>month</td>\n",
              "      <td>1.0</td>\n",
              "      <td>12</td>\n",
              "      <td>String</td>\n",
              "    </tr>\n",
              "  </tbody>\n",
              "</table>\n",
              "</div>\n",
              "      <button class=\"colab-df-convert\" onclick=\"convertToInteractive('df-90334e44-367c-4fb0-bc29-e26cf479ea99')\"\n",
              "              title=\"Convert this dataframe to an interactive table.\"\n",
              "              style=\"display:none;\">\n",
              "        \n",
              "  <svg xmlns=\"http://www.w3.org/2000/svg\" height=\"24px\"viewBox=\"0 0 24 24\"\n",
              "       width=\"24px\">\n",
              "    <path d=\"M0 0h24v24H0V0z\" fill=\"none\"/>\n",
              "    <path d=\"M18.56 5.44l.94 2.06.94-2.06 2.06-.94-2.06-.94-.94-2.06-.94 2.06-2.06.94zm-11 1L8.5 8.5l.94-2.06 2.06-.94-2.06-.94L8.5 2.5l-.94 2.06-2.06.94zm10 10l.94 2.06.94-2.06 2.06-.94-2.06-.94-.94-2.06-.94 2.06-2.06.94z\"/><path d=\"M17.41 7.96l-1.37-1.37c-.4-.4-.92-.59-1.43-.59-.52 0-1.04.2-1.43.59L10.3 9.45l-7.72 7.72c-.78.78-.78 2.05 0 2.83L4 21.41c.39.39.9.59 1.41.59.51 0 1.02-.2 1.41-.59l7.78-7.78 2.81-2.81c.8-.78.8-2.07 0-2.86zM5.41 20L4 18.59l7.72-7.72 1.47 1.35L5.41 20z\"/>\n",
              "  </svg>\n",
              "      </button>\n",
              "      \n",
              "  <style>\n",
              "    .colab-df-container {\n",
              "      display:flex;\n",
              "      flex-wrap:wrap;\n",
              "      gap: 12px;\n",
              "    }\n",
              "\n",
              "    .colab-df-convert {\n",
              "      background-color: #E8F0FE;\n",
              "      border: none;\n",
              "      border-radius: 50%;\n",
              "      cursor: pointer;\n",
              "      display: none;\n",
              "      fill: #1967D2;\n",
              "      height: 32px;\n",
              "      padding: 0 0 0 0;\n",
              "      width: 32px;\n",
              "    }\n",
              "\n",
              "    .colab-df-convert:hover {\n",
              "      background-color: #E2EBFA;\n",
              "      box-shadow: 0px 1px 2px rgba(60, 64, 67, 0.3), 0px 1px 3px 1px rgba(60, 64, 67, 0.15);\n",
              "      fill: #174EA6;\n",
              "    }\n",
              "\n",
              "    [theme=dark] .colab-df-convert {\n",
              "      background-color: #3B4455;\n",
              "      fill: #D2E3FC;\n",
              "    }\n",
              "\n",
              "    [theme=dark] .colab-df-convert:hover {\n",
              "      background-color: #434B5C;\n",
              "      box-shadow: 0px 1px 3px 1px rgba(0, 0, 0, 0.15);\n",
              "      filter: drop-shadow(0px 1px 2px rgba(0, 0, 0, 0.3));\n",
              "      fill: #FFFFFF;\n",
              "    }\n",
              "  </style>\n",
              "\n",
              "      <script>\n",
              "        const buttonEl =\n",
              "          document.querySelector('#df-90334e44-367c-4fb0-bc29-e26cf479ea99 button.colab-df-convert');\n",
              "        buttonEl.style.display =\n",
              "          google.colab.kernel.accessAllowed ? 'block' : 'none';\n",
              "\n",
              "        async function convertToInteractive(key) {\n",
              "          const element = document.querySelector('#df-90334e44-367c-4fb0-bc29-e26cf479ea99');\n",
              "          const dataTable =\n",
              "            await google.colab.kernel.invokeFunction('convertToInteractive',\n",
              "                                                     [key], {});\n",
              "          if (!dataTable) return;\n",
              "\n",
              "          const docLinkHtml = 'Like what you see? Visit the ' +\n",
              "            '<a target=\"_blank\" href=https://colab.research.google.com/notebooks/data_table.ipynb>data table notebook</a>'\n",
              "            + ' to learn more about interactive tables.';\n",
              "          element.innerHTML = '';\n",
              "          dataTable['output_type'] = 'display_data';\n",
              "          await google.colab.output.renderOutput(dataTable, element);\n",
              "          const docLink = document.createElement('div');\n",
              "          docLink.innerHTML = docLinkHtml;\n",
              "          element.appendChild(docLink);\n",
              "        }\n",
              "      </script>\n",
              "    </div>\n",
              "  </div>\n",
              "  "
            ]
          },
          "metadata": {},
          "execution_count": 27
        }
      ],
      "source": [
        "df_profile"
      ]
    },
    {
      "cell_type": "markdown",
      "metadata": {
        "id": "iW4KYmtA69ss"
      },
      "source": [
        "Defining and running tests for data. This is the important step that shoud be present in our ingestion process, before starting modelling!\n"
      ]
    },
    {
      "cell_type": "code",
      "execution_count": null,
      "metadata": {
        "colab": {
          "base_uri": "https://localhost:8080/"
        },
        "id": "IVlaZkfh7cBz",
        "outputId": "2d66b53b-1726-46ac-fecf-966b58ea92a8"
      },
      "outputs": [
        {
          "name": "stdout",
          "output_type": "stream",
          "text": [
            "Python Callback server started!\n",
            "+----------+-----------+------------+-----------------------------------------------------------------------------------------------------------------------------------------------------+-----------------+---------------------------------------------------------+\n",
            "|check     |check_level|check_status|constraint                                                                                                                                           |constraint_status|constraint_message                                       |\n",
            "+----------+-----------+------------+-----------------------------------------------------------------------------------------------------------------------------------------------------+-----------------+---------------------------------------------------------+\n",
            "|Bank Check|Warning    |Warning     |SizeConstraint(Size(None))                                                                                                                           |Success          |                                                         |\n",
            "|Bank Check|Warning    |Warning     |MinimumConstraint(Minimum(balance,None))                                                                                                             |Failure          |Value: -8019.0 does not meet the constraint requirement! |\n",
            "|Bank Check|Warning    |Warning     |MaximumConstraint(Maximum(balance,None))                                                                                                             |Failure          |Value: 102127.0 does not meet the constraint requirement!|\n",
            "|Bank Check|Warning    |Warning     |CompletenessConstraint(Completeness(education,None))                                                                                                 |Success          |                                                         |\n",
            "|Bank Check|Warning    |Warning     |UniquenessConstraint(Uniqueness(List(y),None))                                                                                                       |Failure          |Value: 0.0 does not meet the constraint requirement!     |\n",
            "|Bank Check|Warning    |Warning     |CompletenessConstraint(Completeness(y,None))                                                                                                         |Success          |                                                         |\n",
            "|Bank Check|Warning    |Warning     |ComplianceConstraint(Compliance(marital contained in single,married,divorced,`marital` IS NULL OR `marital` IN ('single','married','divorced'),None))|Success          |                                                         |\n",
            "|Bank Check|Warning    |Warning     |ComplianceConstraint(Compliance(day is non-negative,COALESCE(CAST(day AS DECIMAL(20,10)), 0.0) >= 0,None))                                           |Success          |                                                         |\n",
            "+----------+-----------+------------+-----------------------------------------------------------------------------------------------------------------------------------------------------+-----------------+---------------------------------------------------------+\n",
            "\n"
          ]
        },
        {
          "name": "stderr",
          "output_type": "stream",
          "text": [
            "/content/spark-3.3.2-bin-hadoop2/python/pyspark/sql/dataframe.py:127: UserWarning: DataFrame constructor is internal. Do not directly use it.\n",
            "  warnings.warn(\"DataFrame constructor is internal. Do not directly use it.\")\n"
          ]
        }
      ],
      "source": [
        "from pydeequ.checks import *\n",
        "from pydeequ.verification import *\n",
        "\n",
        "check = Check(spark, CheckLevel.Warning, \"Bank Check\")\n",
        "\n",
        "checkResult = VerificationSuite(spark) \\\n",
        "    .onData(df) \\\n",
        "    .addCheck(\n",
        "        check.hasSize(lambda x: x >= 40000) \\\n",
        "        .hasMin(\"balance\", lambda x: x == 0.0) \\\n",
        "        .hasMax(\"balance\", lambda x: x == 20000)  \\\n",
        "        .isComplete(\"education\")  \\\n",
        "        .isUnique(\"y\")  \\\n",
        "        .isComplete(\"y\")  \\\n",
        "        .isContainedIn(\"marital\", [\"single\", \"married\", \"divorced\"]) \\\n",
        "        .isNonNegative(\"day\")) \\\n",
        "    .run()\n",
        "\n",
        "checkResult_df = VerificationResult.checkResultsAsDataFrame(spark, checkResult)\n",
        "checkResult_df.show(20,False)"
      ]
    },
    {
      "cell_type": "markdown",
      "metadata": {
        "id": "50jYodwJWbTp"
      },
      "source": [
        "Pydeequ also has the ability to provide us suggestions for constraining our features."
      ]
    },
    {
      "cell_type": "code",
      "execution_count": null,
      "metadata": {
        "colab": {
          "base_uri": "https://localhost:8080/"
        },
        "id": "8zpqN1Y6B2vX",
        "outputId": "e8a8383f-1aea-4022-a8ca-898abfdb6f6b"
      },
      "outputs": [
        {
          "name": "stdout",
          "output_type": "stream",
          "text": [
            "{\n",
            "  \"constraint_suggestions\": [\n",
            "    {\n",
            "      \"constraint_name\": \"CompletenessConstraint(Completeness(duration,None))\",\n",
            "      \"column_name\": \"duration\",\n",
            "      \"current_value\": \"Completeness: 1.0\",\n",
            "      \"description\": \"'duration' is not null\",\n",
            "      \"suggesting_rule\": \"CompleteIfCompleteRule()\",\n",
            "      \"rule_description\": \"If a column is complete in the sample, we suggest a NOT NULL constraint\",\n",
            "      \"code_for_constraint\": \".isComplete(\\\"duration\\\")\"\n",
            "    },\n",
            "    {\n",
            "      \"constraint_name\": \"ComplianceConstraint(Compliance('duration' has no negative values,duration >= 0,None))\",\n",
            "      \"column_name\": \"duration\",\n",
            "      \"current_value\": \"Minimum: 0.0\",\n",
            "      \"description\": \"'duration' has no negative values\",\n",
            "      \"suggesting_rule\": \"NonNegativeNumbersRule()\",\n",
            "      \"rule_description\": \"If we see only non-negative numbers in a column, we suggest a corresponding constraint\",\n",
            "      \"code_for_constraint\": \".isNonNegative(\\\"duration\\\")\"\n",
            "    },\n",
            "    {\n",
            "      \"constraint_name\": \"CompletenessConstraint(Completeness(housing,None))\",\n",
            "      \"column_name\": \"housing\",\n",
            "      \"current_value\": \"Completeness: 1.0\",\n",
            "      \"description\": \"'housing' is not null\",\n",
            "      \"suggesting_rule\": \"CompleteIfCompleteRule()\",\n",
            "      \"rule_description\": \"If a column is complete in the sample, we suggest a NOT NULL constraint\",\n",
            "      \"code_for_constraint\": \".isComplete(\\\"housing\\\")\"\n",
            "    },\n",
            "    {\n",
            "      \"constraint_name\": \"CompletenessConstraint(Completeness(y,None))\",\n",
            "      \"column_name\": \"y\",\n",
            "      \"current_value\": \"Completeness: 1.0\",\n",
            "      \"description\": \"'y' is not null\",\n",
            "      \"suggesting_rule\": \"CompleteIfCompleteRule()\",\n",
            "      \"rule_description\": \"If a column is complete in the sample, we suggest a NOT NULL constraint\",\n",
            "      \"code_for_constraint\": \".isComplete(\\\"y\\\")\"\n",
            "    },\n",
            "    {\n",
            "      \"constraint_name\": \"CompletenessConstraint(Completeness(previous,None))\",\n",
            "      \"column_name\": \"previous\",\n",
            "      \"current_value\": \"Completeness: 1.0\",\n",
            "      \"description\": \"'previous' is not null\",\n",
            "      \"suggesting_rule\": \"CompleteIfCompleteRule()\",\n",
            "      \"rule_description\": \"If a column is complete in the sample, we suggest a NOT NULL constraint\",\n",
            "      \"code_for_constraint\": \".isComplete(\\\"previous\\\")\"\n",
            "    },\n",
            "    {\n",
            "      \"constraint_name\": \"ComplianceConstraint(Compliance('previous' has no negative values,previous >= 0,None))\",\n",
            "      \"column_name\": \"previous\",\n",
            "      \"current_value\": \"Minimum: 0.0\",\n",
            "      \"description\": \"'previous' has no negative values\",\n",
            "      \"suggesting_rule\": \"NonNegativeNumbersRule()\",\n",
            "      \"rule_description\": \"If we see only non-negative numbers in a column, we suggest a corresponding constraint\",\n",
            "      \"code_for_constraint\": \".isNonNegative(\\\"previous\\\")\"\n",
            "    },\n",
            "    {\n",
            "      \"constraint_name\": \"CompletenessConstraint(Completeness(campaign,None))\",\n",
            "      \"column_name\": \"campaign\",\n",
            "      \"current_value\": \"Completeness: 1.0\",\n",
            "      \"description\": \"'campaign' is not null\",\n",
            "      \"suggesting_rule\": \"CompleteIfCompleteRule()\",\n",
            "      \"rule_description\": \"If a column is complete in the sample, we suggest a NOT NULL constraint\",\n",
            "      \"code_for_constraint\": \".isComplete(\\\"campaign\\\")\"\n",
            "    },\n",
            "    {\n",
            "      \"constraint_name\": \"ComplianceConstraint(Compliance('campaign' has no negative values,campaign >= 0,None))\",\n",
            "      \"column_name\": \"campaign\",\n",
            "      \"current_value\": \"Minimum: 1.0\",\n",
            "      \"description\": \"'campaign' has no negative values\",\n",
            "      \"suggesting_rule\": \"NonNegativeNumbersRule()\",\n",
            "      \"rule_description\": \"If we see only non-negative numbers in a column, we suggest a corresponding constraint\",\n",
            "      \"code_for_constraint\": \".isNonNegative(\\\"campaign\\\")\"\n",
            "    },\n",
            "    {\n",
            "      \"constraint_name\": \"CompletenessConstraint(Completeness(job,None))\",\n",
            "      \"column_name\": \"job\",\n",
            "      \"current_value\": \"Completeness: 1.0\",\n",
            "      \"description\": \"'job' is not null\",\n",
            "      \"suggesting_rule\": \"CompleteIfCompleteRule()\",\n",
            "      \"rule_description\": \"If a column is complete in the sample, we suggest a NOT NULL constraint\",\n",
            "      \"code_for_constraint\": \".isComplete(\\\"job\\\")\"\n",
            "    },\n",
            "    {\n",
            "      \"constraint_name\": \"CompletenessConstraint(Completeness(balance,None))\",\n",
            "      \"column_name\": \"balance\",\n",
            "      \"current_value\": \"Completeness: 1.0\",\n",
            "      \"description\": \"'balance' is not null\",\n",
            "      \"suggesting_rule\": \"CompleteIfCompleteRule()\",\n",
            "      \"rule_description\": \"If a column is complete in the sample, we suggest a NOT NULL constraint\",\n",
            "      \"code_for_constraint\": \".isComplete(\\\"balance\\\")\"\n",
            "    },\n",
            "    {\n",
            "      \"constraint_name\": \"CompletenessConstraint(Completeness(contact,None))\",\n",
            "      \"column_name\": \"contact\",\n",
            "      \"current_value\": \"Completeness: 1.0\",\n",
            "      \"description\": \"'contact' is not null\",\n",
            "      \"suggesting_rule\": \"CompleteIfCompleteRule()\",\n",
            "      \"rule_description\": \"If a column is complete in the sample, we suggest a NOT NULL constraint\",\n",
            "      \"code_for_constraint\": \".isComplete(\\\"contact\\\")\"\n",
            "    },\n",
            "    {\n",
            "      \"constraint_name\": \"CompletenessConstraint(Completeness(age,None))\",\n",
            "      \"column_name\": \"age\",\n",
            "      \"current_value\": \"Completeness: 1.0\",\n",
            "      \"description\": \"'age' is not null\",\n",
            "      \"suggesting_rule\": \"CompleteIfCompleteRule()\",\n",
            "      \"rule_description\": \"If a column is complete in the sample, we suggest a NOT NULL constraint\",\n",
            "      \"code_for_constraint\": \".isComplete(\\\"age\\\")\"\n",
            "    },\n",
            "    {\n",
            "      \"constraint_name\": \"ComplianceConstraint(Compliance('age' has no negative values,age >= 0,None))\",\n",
            "      \"column_name\": \"age\",\n",
            "      \"current_value\": \"Minimum: 18.0\",\n",
            "      \"description\": \"'age' has no negative values\",\n",
            "      \"suggesting_rule\": \"NonNegativeNumbersRule()\",\n",
            "      \"rule_description\": \"If we see only non-negative numbers in a column, we suggest a corresponding constraint\",\n",
            "      \"code_for_constraint\": \".isNonNegative(\\\"age\\\")\"\n",
            "    },\n",
            "    {\n",
            "      \"constraint_name\": \"CompletenessConstraint(Completeness(loan,None))\",\n",
            "      \"column_name\": \"loan\",\n",
            "      \"current_value\": \"Completeness: 1.0\",\n",
            "      \"description\": \"'loan' is not null\",\n",
            "      \"suggesting_rule\": \"CompleteIfCompleteRule()\",\n",
            "      \"rule_description\": \"If a column is complete in the sample, we suggest a NOT NULL constraint\",\n",
            "      \"code_for_constraint\": \".isComplete(\\\"loan\\\")\"\n",
            "    },\n",
            "    {\n",
            "      \"constraint_name\": \"CompletenessConstraint(Completeness(education,None))\",\n",
            "      \"column_name\": \"education\",\n",
            "      \"current_value\": \"Completeness: 1.0\",\n",
            "      \"description\": \"'education' is not null\",\n",
            "      \"suggesting_rule\": \"CompleteIfCompleteRule()\",\n",
            "      \"rule_description\": \"If a column is complete in the sample, we suggest a NOT NULL constraint\",\n",
            "      \"code_for_constraint\": \".isComplete(\\\"education\\\")\"\n",
            "    },\n",
            "    {\n",
            "      \"constraint_name\": \"CompletenessConstraint(Completeness(marital,None))\",\n",
            "      \"column_name\": \"marital\",\n",
            "      \"current_value\": \"Completeness: 1.0\",\n",
            "      \"description\": \"'marital' is not null\",\n",
            "      \"suggesting_rule\": \"CompleteIfCompleteRule()\",\n",
            "      \"rule_description\": \"If a column is complete in the sample, we suggest a NOT NULL constraint\",\n",
            "      \"code_for_constraint\": \".isComplete(\\\"marital\\\")\"\n",
            "    },\n",
            "    {\n",
            "      \"constraint_name\": \"CompletenessConstraint(Completeness(default,None))\",\n",
            "      \"column_name\": \"default\",\n",
            "      \"current_value\": \"Completeness: 1.0\",\n",
            "      \"description\": \"'default' is not null\",\n",
            "      \"suggesting_rule\": \"CompleteIfCompleteRule()\",\n",
            "      \"rule_description\": \"If a column is complete in the sample, we suggest a NOT NULL constraint\",\n",
            "      \"code_for_constraint\": \".isComplete(\\\"default\\\")\"\n",
            "    },\n",
            "    {\n",
            "      \"constraint_name\": \"CompletenessConstraint(Completeness(pdays,None))\",\n",
            "      \"column_name\": \"pdays\",\n",
            "      \"current_value\": \"Completeness: 1.0\",\n",
            "      \"description\": \"'pdays' is not null\",\n",
            "      \"suggesting_rule\": \"CompleteIfCompleteRule()\",\n",
            "      \"rule_description\": \"If a column is complete in the sample, we suggest a NOT NULL constraint\",\n",
            "      \"code_for_constraint\": \".isComplete(\\\"pdays\\\")\"\n",
            "    },\n",
            "    {\n",
            "      \"constraint_name\": \"CompletenessConstraint(Completeness(day,None))\",\n",
            "      \"column_name\": \"day\",\n",
            "      \"current_value\": \"Completeness: 1.0\",\n",
            "      \"description\": \"'day' is not null\",\n",
            "      \"suggesting_rule\": \"CompleteIfCompleteRule()\",\n",
            "      \"rule_description\": \"If a column is complete in the sample, we suggest a NOT NULL constraint\",\n",
            "      \"code_for_constraint\": \".isComplete(\\\"day\\\")\"\n",
            "    },\n",
            "    {\n",
            "      \"constraint_name\": \"ComplianceConstraint(Compliance('day' has no negative values,day >= 0,None))\",\n",
            "      \"column_name\": \"day\",\n",
            "      \"current_value\": \"Minimum: 1.0\",\n",
            "      \"description\": \"'day' has no negative values\",\n",
            "      \"suggesting_rule\": \"NonNegativeNumbersRule()\",\n",
            "      \"rule_description\": \"If we see only non-negative numbers in a column, we suggest a corresponding constraint\",\n",
            "      \"code_for_constraint\": \".isNonNegative(\\\"day\\\")\"\n",
            "    },\n",
            "    {\n",
            "      \"constraint_name\": \"CompletenessConstraint(Completeness(poutcome,None))\",\n",
            "      \"column_name\": \"poutcome\",\n",
            "      \"current_value\": \"Completeness: 1.0\",\n",
            "      \"description\": \"'poutcome' is not null\",\n",
            "      \"suggesting_rule\": \"CompleteIfCompleteRule()\",\n",
            "      \"rule_description\": \"If a column is complete in the sample, we suggest a NOT NULL constraint\",\n",
            "      \"code_for_constraint\": \".isComplete(\\\"poutcome\\\")\"\n",
            "    },\n",
            "    {\n",
            "      \"constraint_name\": \"CompletenessConstraint(Completeness(month,None))\",\n",
            "      \"column_name\": \"month\",\n",
            "      \"current_value\": \"Completeness: 1.0\",\n",
            "      \"description\": \"'month' is not null\",\n",
            "      \"suggesting_rule\": \"CompleteIfCompleteRule()\",\n",
            "      \"rule_description\": \"If a column is complete in the sample, we suggest a NOT NULL constraint\",\n",
            "      \"code_for_constraint\": \".isComplete(\\\"month\\\")\"\n",
            "    }\n",
            "  ]\n",
            "}\n"
          ]
        }
      ],
      "source": [
        "from pydeequ.suggestions import *\n",
        "\n",
        "suggestionResult = ConstraintSuggestionRunner(spark)\\\n",
        "             .onData(df)\\\n",
        "             .addConstraintRule(CompleteIfCompleteRule())\\\n",
        "             .addConstraintRule(NonNegativeNumbersRule())\\\n",
        "             .addConstraintRule(RetainCompletenessRule())\\\n",
        "             .addConstraintRule(RetainTypeRule())\\\n",
        "             .addConstraintRule(UniqueIfApproximatelyUniqueRule())\\\n",
        "             .run()\n",
        "\n",
        "# Constraint Suggestions in JSON format\n",
        "print(json.dumps(suggestionResult, indent=2))"
      ]
    },
    {
      "cell_type": "markdown",
      "metadata": {
        "id": "fuz6llqDWqek"
      },
      "source": [
        "We can create a more friendly format to use it, afterwords, just only need to create a function customized for that effect."
      ]
    },
    {
      "cell_type": "code",
      "execution_count": null,
      "metadata": {
        "colab": {
          "base_uri": "https://localhost:8080/"
        },
        "id": "AmYn-JhNDHMa",
        "outputId": "2adb7256-735d-4df0-f05b-2a1675f0394e"
      },
      "outputs": [
        {
          "name": "stdout",
          "output_type": "stream",
          "text": [
            "-----\n",
            "Suggested constraint for 'duration': 'duration' is not null\n",
            "The description for this rule is: 'If a column is complete in the sample, we suggest a NOT NULL constraint'\n",
            "The corresponding Python code is: `.isComplete(\"duration\")`\n",
            "-----\n",
            "Suggested constraint for 'duration': 'duration' has no negative values\n",
            "The description for this rule is: 'If we see only non-negative numbers in a column, we suggest a corresponding constraint'\n",
            "The corresponding Python code is: `.isNonNegative(\"duration\")`\n",
            "-----\n",
            "Suggested constraint for 'housing': 'housing' is not null\n",
            "The description for this rule is: 'If a column is complete in the sample, we suggest a NOT NULL constraint'\n",
            "The corresponding Python code is: `.isComplete(\"housing\")`\n",
            "-----\n",
            "Suggested constraint for 'y': 'y' is not null\n",
            "The description for this rule is: 'If a column is complete in the sample, we suggest a NOT NULL constraint'\n",
            "The corresponding Python code is: `.isComplete(\"y\")`\n",
            "-----\n",
            "Suggested constraint for 'previous': 'previous' is not null\n",
            "The description for this rule is: 'If a column is complete in the sample, we suggest a NOT NULL constraint'\n",
            "The corresponding Python code is: `.isComplete(\"previous\")`\n",
            "-----\n",
            "Suggested constraint for 'previous': 'previous' has no negative values\n",
            "The description for this rule is: 'If we see only non-negative numbers in a column, we suggest a corresponding constraint'\n",
            "The corresponding Python code is: `.isNonNegative(\"previous\")`\n",
            "-----\n",
            "Suggested constraint for 'campaign': 'campaign' is not null\n",
            "The description for this rule is: 'If a column is complete in the sample, we suggest a NOT NULL constraint'\n",
            "The corresponding Python code is: `.isComplete(\"campaign\")`\n",
            "-----\n",
            "Suggested constraint for 'campaign': 'campaign' has no negative values\n",
            "The description for this rule is: 'If we see only non-negative numbers in a column, we suggest a corresponding constraint'\n",
            "The corresponding Python code is: `.isNonNegative(\"campaign\")`\n",
            "-----\n",
            "Suggested constraint for 'job': 'job' is not null\n",
            "The description for this rule is: 'If a column is complete in the sample, we suggest a NOT NULL constraint'\n",
            "The corresponding Python code is: `.isComplete(\"job\")`\n",
            "-----\n",
            "Suggested constraint for 'balance': 'balance' is not null\n",
            "The description for this rule is: 'If a column is complete in the sample, we suggest a NOT NULL constraint'\n",
            "The corresponding Python code is: `.isComplete(\"balance\")`\n",
            "-----\n",
            "Suggested constraint for 'contact': 'contact' is not null\n",
            "The description for this rule is: 'If a column is complete in the sample, we suggest a NOT NULL constraint'\n",
            "The corresponding Python code is: `.isComplete(\"contact\")`\n",
            "-----\n",
            "Suggested constraint for 'age': 'age' is not null\n",
            "The description for this rule is: 'If a column is complete in the sample, we suggest a NOT NULL constraint'\n",
            "The corresponding Python code is: `.isComplete(\"age\")`\n",
            "-----\n",
            "Suggested constraint for 'age': 'age' has no negative values\n",
            "The description for this rule is: 'If we see only non-negative numbers in a column, we suggest a corresponding constraint'\n",
            "The corresponding Python code is: `.isNonNegative(\"age\")`\n",
            "-----\n",
            "Suggested constraint for 'loan': 'loan' is not null\n",
            "The description for this rule is: 'If a column is complete in the sample, we suggest a NOT NULL constraint'\n",
            "The corresponding Python code is: `.isComplete(\"loan\")`\n",
            "-----\n",
            "Suggested constraint for 'education': 'education' is not null\n",
            "The description for this rule is: 'If a column is complete in the sample, we suggest a NOT NULL constraint'\n",
            "The corresponding Python code is: `.isComplete(\"education\")`\n",
            "-----\n",
            "Suggested constraint for 'marital': 'marital' is not null\n",
            "The description for this rule is: 'If a column is complete in the sample, we suggest a NOT NULL constraint'\n",
            "The corresponding Python code is: `.isComplete(\"marital\")`\n",
            "-----\n",
            "Suggested constraint for 'default': 'default' is not null\n",
            "The description for this rule is: 'If a column is complete in the sample, we suggest a NOT NULL constraint'\n",
            "The corresponding Python code is: `.isComplete(\"default\")`\n",
            "-----\n",
            "Suggested constraint for 'pdays': 'pdays' is not null\n",
            "The description for this rule is: 'If a column is complete in the sample, we suggest a NOT NULL constraint'\n",
            "The corresponding Python code is: `.isComplete(\"pdays\")`\n",
            "-----\n",
            "Suggested constraint for 'day': 'day' is not null\n",
            "The description for this rule is: 'If a column is complete in the sample, we suggest a NOT NULL constraint'\n",
            "The corresponding Python code is: `.isComplete(\"day\")`\n",
            "-----\n",
            "Suggested constraint for 'day': 'day' has no negative values\n",
            "The description for this rule is: 'If we see only non-negative numbers in a column, we suggest a corresponding constraint'\n",
            "The corresponding Python code is: `.isNonNegative(\"day\")`\n",
            "-----\n",
            "Suggested constraint for 'poutcome': 'poutcome' is not null\n",
            "The description for this rule is: 'If a column is complete in the sample, we suggest a NOT NULL constraint'\n",
            "The corresponding Python code is: `.isComplete(\"poutcome\")`\n",
            "-----\n",
            "Suggested constraint for 'month': 'month' is not null\n",
            "The description for this rule is: 'If a column is complete in the sample, we suggest a NOT NULL constraint'\n",
            "The corresponding Python code is: `.isComplete(\"month\")`\n",
            ".isComplete(\"duration\").isNonNegative(\"duration\").isComplete(\"housing\").isComplete(\"y\").isComplete(\"previous\").isNonNegative(\"previous\").isComplete(\"campaign\").isNonNegative(\"campaign\").isComplete(\"job\").isComplete(\"balance\").isComplete(\"contact\").isComplete(\"age\").isNonNegative(\"age\").isComplete(\"loan\").isComplete(\"education\").isComplete(\"marital\").isComplete(\"default\").isComplete(\"pdays\").isComplete(\"day\").isNonNegative(\"day\").isComplete(\"poutcome\").isComplete(\"month\")\n"
          ]
        }
      ],
      "source": [
        "for suggestion in suggestionResult['constraint_suggestions']:\n",
        "  print(\"-----\")\n",
        "  print(f\"Suggested constraint for \\'{suggestion['column_name']}\\': {suggestion['description']}\")\n",
        "  print(f\"The description for this rule is: \\'{suggestion['rule_description']}\\'\")\n",
        "  print(f\"The corresponding Python code is: `{suggestion['code_for_constraint']}`\")\n",
        "\n",
        "\n",
        "pydeequ_validation_string = \"\"\n",
        "\n",
        "# Building string from suggestions\n",
        "for suggestion in suggestionResult['constraint_suggestions']:\n",
        "  pydeequ_validation_string = pydeequ_validation_string + suggestion[\"code_for_constraint\"]\n",
        "\n",
        "# Printing string validation string\n",
        "# If desired, edit this string to control what data quality validations are performed\n",
        "print(pydeequ_validation_string)"
      ]
    },
    {
      "cell_type": "markdown",
      "metadata": {
        "id": "Y6r-xilcW8kI"
      },
      "source": [
        "Create the customized function"
      ]
    },
    {
      "cell_type": "code",
      "execution_count": null,
      "metadata": {
        "id": "_00DZnciGF-8"
      },
      "outputs": [],
      "source": [
        "import logging\n",
        "\n",
        "from pydeequ.checks import Check, CheckLevel, ConstrainableDataTypes\n",
        "from pydeequ.verification import VerificationResult, VerificationSuite\n",
        "from pyspark.sql import functions as F\n",
        "\n",
        "logger = logging.getLogger(__name__)\n",
        "\n",
        "def perform_checks(df, pydeequ_validation_string):\n",
        "    \"\"\"Perform and log data quality checks.\"\"\"\n",
        "\n",
        "    # Initializing\n",
        "    check = \\\n",
        "        Check(spark_session=spark,\n",
        "              level=CheckLevel.Warning,\n",
        "              description=\"Data Quality Check\")\n",
        "\n",
        "    # Building validation string of constraints to check\n",
        "    pydeequ_validation_string_to_check = \"check\" + pydeequ_validation_string\n",
        "\n",
        "    # Checking constraints\n",
        "    checked_constraints = \\\n",
        "        (VerificationSuite(spark)\n",
        "         .onData(df)\n",
        "         .addCheck(eval(pydeequ_validation_string_to_check))\n",
        "         .run())\n",
        "\n",
        "    # Returning results as DataFrame\n",
        "    df_checked_constraints = \\\n",
        "        (VerificationResult\n",
        "         .checkResultsAsDataFrame(spark, checked_constraints))\n",
        "\n",
        "    logger.info(\n",
        "        df_checked_constraints.show(n=df_checked_constraints.count(),\n",
        "                                    truncate=False)\n",
        "    )\n",
        "\n",
        "    # Filtering for any failed data quality constraints\n",
        "    df_checked_constraints_failures = \\\n",
        "        (df_checked_constraints\n",
        "         .filter(F.col(\"constraint_status\") == \"Failure\"))\n",
        "\n",
        "    # If any data quality check fails, raise exception\n",
        "    if df_checked_constraints_failures.count() > 0:\n",
        "        logger.info(df_checked_constraints_failures\\\n",
        "              .show(n=df_checked_constraints_failures.count(), truncate=False))"
      ]
    },
    {
      "cell_type": "code",
      "execution_count": null,
      "metadata": {
        "colab": {
          "base_uri": "https://localhost:8080/",
          "height": 87
        },
        "id": "qgUFZ1oLH-W3",
        "outputId": "1ca261b2-26b7-4b8f-bd92-2e32c21fd7cd"
      },
      "outputs": [
        {
          "data": {
            "application/vnd.google.colaboratory.intrinsic+json": {
              "type": "string"
            },
            "text/plain": [
              "'.isComplete(\"duration\").isNonNegative(\"duration\").isComplete(\"housing\").isComplete(\"y\").isComplete(\"previous\").isNonNegative(\"previous\").isComplete(\"campaign\").isNonNegative(\"campaign\").isComplete(\"job\").isComplete(\"balance\").isComplete(\"contact\").isComplete(\"age\").isNonNegative(\"age\").isComplete(\"loan\").isComplete(\"education\").isComplete(\"marital\").isComplete(\"default\").isComplete(\"pdays\").isComplete(\"day\").isNonNegative(\"day\").isComplete(\"poutcome\").isComplete(\"month\")'"
            ]
          },
          "execution_count": 33,
          "metadata": {},
          "output_type": "execute_result"
        }
      ],
      "source": [
        "pydeequ_validation_string"
      ]
    },
    {
      "cell_type": "code",
      "execution_count": null,
      "metadata": {
        "colab": {
          "base_uri": "https://localhost:8080/"
        },
        "id": "FyWZlFJ7IDDu",
        "outputId": "e75e45b9-b095-4434-b056-719b89c135cf"
      },
      "outputs": [
        {
          "name": "stderr",
          "output_type": "stream",
          "text": [
            "/content/spark-3.3.2-bin-hadoop2/python/pyspark/sql/dataframe.py:127: UserWarning: DataFrame constructor is internal. Do not directly use it.\n",
            "  warnings.warn(\"DataFrame constructor is internal. Do not directly use it.\")\n"
          ]
        },
        {
          "name": "stdout",
          "output_type": "stream",
          "text": [
            "+------------------+-----------+------------+--------------------------------------------------------------------------------------------------------------------+-----------------+------------------+\n",
            "|check             |check_level|check_status|constraint                                                                                                          |constraint_status|constraint_message|\n",
            "+------------------+-----------+------------+--------------------------------------------------------------------------------------------------------------------+-----------------+------------------+\n",
            "|Data Quality Check|Warning    |Success     |CompletenessConstraint(Completeness(duration,None))                                                                 |Success          |                  |\n",
            "|Data Quality Check|Warning    |Success     |ComplianceConstraint(Compliance(duration is non-negative,COALESCE(CAST(duration AS DECIMAL(20,10)), 0.0) >= 0,None))|Success          |                  |\n",
            "|Data Quality Check|Warning    |Success     |CompletenessConstraint(Completeness(housing,None))                                                                  |Success          |                  |\n",
            "|Data Quality Check|Warning    |Success     |CompletenessConstraint(Completeness(y,None))                                                                        |Success          |                  |\n",
            "|Data Quality Check|Warning    |Success     |CompletenessConstraint(Completeness(previous,None))                                                                 |Success          |                  |\n",
            "|Data Quality Check|Warning    |Success     |ComplianceConstraint(Compliance(previous is non-negative,COALESCE(CAST(previous AS DECIMAL(20,10)), 0.0) >= 0,None))|Success          |                  |\n",
            "|Data Quality Check|Warning    |Success     |CompletenessConstraint(Completeness(campaign,None))                                                                 |Success          |                  |\n",
            "|Data Quality Check|Warning    |Success     |ComplianceConstraint(Compliance(campaign is non-negative,COALESCE(CAST(campaign AS DECIMAL(20,10)), 0.0) >= 0,None))|Success          |                  |\n",
            "|Data Quality Check|Warning    |Success     |CompletenessConstraint(Completeness(job,None))                                                                      |Success          |                  |\n",
            "|Data Quality Check|Warning    |Success     |CompletenessConstraint(Completeness(balance,None))                                                                  |Success          |                  |\n",
            "|Data Quality Check|Warning    |Success     |CompletenessConstraint(Completeness(contact,None))                                                                  |Success          |                  |\n",
            "|Data Quality Check|Warning    |Success     |CompletenessConstraint(Completeness(age,None))                                                                      |Success          |                  |\n",
            "|Data Quality Check|Warning    |Success     |ComplianceConstraint(Compliance(age is non-negative,COALESCE(CAST(age AS DECIMAL(20,10)), 0.0) >= 0,None))          |Success          |                  |\n",
            "|Data Quality Check|Warning    |Success     |CompletenessConstraint(Completeness(loan,None))                                                                     |Success          |                  |\n",
            "|Data Quality Check|Warning    |Success     |CompletenessConstraint(Completeness(education,None))                                                                |Success          |                  |\n",
            "|Data Quality Check|Warning    |Success     |CompletenessConstraint(Completeness(marital,None))                                                                  |Success          |                  |\n",
            "|Data Quality Check|Warning    |Success     |CompletenessConstraint(Completeness(default,None))                                                                  |Success          |                  |\n",
            "|Data Quality Check|Warning    |Success     |CompletenessConstraint(Completeness(pdays,None))                                                                    |Success          |                  |\n",
            "|Data Quality Check|Warning    |Success     |CompletenessConstraint(Completeness(day,None))                                                                      |Success          |                  |\n",
            "|Data Quality Check|Warning    |Success     |ComplianceConstraint(Compliance(day is non-negative,COALESCE(CAST(day AS DECIMAL(20,10)), 0.0) >= 0,None))          |Success          |                  |\n",
            "|Data Quality Check|Warning    |Success     |CompletenessConstraint(Completeness(poutcome,None))                                                                 |Success          |                  |\n",
            "|Data Quality Check|Warning    |Success     |CompletenessConstraint(Completeness(month,None))                                                                    |Success          |                  |\n",
            "+------------------+-----------+------------+--------------------------------------------------------------------------------------------------------------------+-----------------+------------------+\n",
            "\n"
          ]
        }
      ],
      "source": [
        "perform_checks(df, pydeequ_validation_string)"
      ]
    },
    {
      "cell_type": "code",
      "execution_count": null,
      "metadata": {
        "id": "dmgQeqs2al2e"
      },
      "outputs": [],
      "source": []
    }
  ],
  "metadata": {
    "colab": {
      "provenance": [],
      "include_colab_link": true
    },
    "kernelspec": {
      "display_name": "Python 3",
      "name": "python3"
    },
    "language_info": {
      "codemirror_mode": {
        "name": "ipython",
        "version": 3
      },
      "file_extension": ".py",
      "mimetype": "text/x-python",
      "name": "python",
      "nbconvert_exporter": "python",
      "pygments_lexer": "ipython3",
      "version": "3.9.12"
    },
    "accelerator": "TPU"
  },
  "nbformat": 4,
  "nbformat_minor": 0
}